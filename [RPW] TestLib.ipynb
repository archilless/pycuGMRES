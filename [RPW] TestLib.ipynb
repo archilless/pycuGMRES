{
 "cells": [
  {
   "cell_type": "code",
   "execution_count": 18,
   "metadata": {},
   "outputs": [],
   "source": [
    "import sys\n",
    "sys.path.insert(0, '/media/linux/4db3d51d-3503-451d-aff7-07e3ce95927e/Module/')\n",
    "from cuGMRES import *"
   ]
  },
  {
   "cell_type": "code",
   "execution_count": 2,
   "metadata": {},
   "outputs": [
    {
     "data": {
      "text/plain": [
       "0"
      ]
     },
     "execution_count": 2,
     "metadata": {},
     "output_type": "execute_result"
    }
   ],
   "source": [
    "pow_given = 10\n",
    "N = 1 << pow_given\n",
    "Nsqrd = 1 << (pow_given << 1)\n",
    "\n",
    "wavelength_per_domain = 6\n",
    "k = 2 * 3.14 / ( N / wavelength_per_domain )\n",
    "\n",
    "file_an_sol = '/media/linux/4db3d51d-3503-451d-aff7-07e3ce95927e/Archive/Input/analytical_solution_' + \\\n",
    "               str (N) + '.txt'\n",
    "\n",
    "n_timestamps_array = get_n_timestamps_array_improved(max_maxiter = 50)\n",
    "\n",
    "\n",
    "visible_device = 0\n",
    "h_visible_device = c_uint(visible_device)\n",
    "pycuSetDevice(h_visible_device)"
   ]
  },
  {
   "cell_type": "code",
   "execution_count": 3,
   "metadata": {},
   "outputs": [],
   "source": [
    "maxiter = 30\n",
    "tolerance = 0.00001"
   ]
  },
  {
   "cell_type": "code",
   "execution_count": 4,
   "metadata": {},
   "outputs": [],
   "source": [
    "cylinder_mask = get_cylinder_mask(N)                                   # bool *h_mask\n",
    "\n",
    "h_mask = (c_bool * Nsqrd)()\n",
    "py_to_ctype(cylinder_mask, h_mask)\n",
    "# memmove(h_mask, cylinder_mask.ctypes.data, cylinder_mask.nbytes)\n",
    "dev_mask = pycumalloc(Nsqrd, c_size_t(sizeof(c_bool)))\n",
    "pycuhost2gpu(h_mask, dev_mask, Nsqrd, c_size_t(sizeof(c_bool)))\n",
    "dev_mask = cast(dev_mask, POINTER(c_bool))\n",
    "\n",
    "dev_solution = pycumalloc(Nsqrd, c_size_t(sizeof(c_complex)))          # cuComplex *dev_solution\n",
    "dev_solution = cast(dev_solution, POINTER(c_complex))\n",
    "h_for_gradient = c_bool(False)                                         # const bool for_gradient\n",
    "h_index_of_max = c_uint(0)                                             # const unsigned int h_index_of_max\n",
    "h_tolerance = c_float(tolerance)                                       # const float tolerance\n",
    "h_GMRES_n = (c_uint * 1)(0)                                            # unsigned int *GMRES_n\n",
    "dev_actual_residual = pycumalloc(maxiter+1, c_size_t(sizeof(c_float))) # float *dev_actual_residual\n",
    "dev_actual_residual = cast(dev_actual_residual, POINTER(c_float))\n",
    "h_res_vs_tol_p = c_bool(True)                                          # bool *h_res_vs_tol_p\n",
    "h_N = c_uint(N)                                                        # const unsigned int N    \n",
    "pycuInitSolution(dev_solution, h_N)\n",
    "\n",
    "h_gamma_array = (c_complex * (2 * N - 1) ** 2 )()                      # cuComplex *dev_gamma_array\n",
    "gamma_array = get_gamma_array(k, N)\n",
    "py_to_ctype(gamma_array, h_gamma_array)\n",
    "memmove(h_gamma_array, gamma_array.ctypes.data, gamma_array.nbytes)\n",
    "dev_gamma_array = pycumalloc((2 * N - 1) ** 2, c_size_t(sizeof(c_complex)))\n",
    "pycuhost2gpu(h_gamma_array, dev_gamma_array, (2 * N - 1) ** 2, c_size_t(sizeof(c_complex)))\n",
    "dev_gamma_array = cast(dev_gamma_array, POINTER(c_complex))\n",
    "h_plan = pycuGetPlan(h_N)                                              # const cufftHandle plan\n",
    "h_handle_p = pycuHandleBlas()                                          # cublasHandle_t handle\n",
    "h_cusolverH_p = pycuHandleSolverDn()                                   # cusolverDnHandle_t *cusolverH_p\n",
    "\n",
    "h_maxiter = c_uint(maxiter)                                            # unsigned int maxiter\n",
    "\n",
    "dev_subs = (c_devSubsidiary * 1)()                                     # dev_subsidiary *dev_subs\n",
    "pycuGetSubsidiary(dev_subs, h_N, h_maxiter)\n",
    "n_timestamps = n_timestamps_array[maxiter]                             # timespec *computation_times\n",
    "h_computation_times = (c_timespec * n_timestamps)()"
   ]
  },
  {
   "cell_type": "code",
   "execution_count": null,
   "metadata": {},
   "outputs": [],
   "source": []
  },
  {
   "cell_type": "code",
   "execution_count": 5,
   "metadata": {},
   "outputs": [],
   "source": [
    "# visualize(np.abs(gamma_array).reshape(2 * N - 1,  2 * N - 1), wavelength_per_domain = 6)\n",
    "    "
   ]
  },
  {
   "cell_type": "code",
   "execution_count": 6,
   "metadata": {},
   "outputs": [
    {
     "name": "stdout",
     "output_type": "stream",
     "text": [
      "time_c for GMRES =  0.2247624397277832\n"
     ]
    }
   ],
   "source": [
    "pycuSetPointerMode(h_handle_p, CUBLAS_POINTER_MODE_DEVICE())\n",
    "\n",
    "time_c = time()\n",
    "\n",
    "pycuGMRES(\n",
    "    dev_mask,\n",
    "    dev_solution,\n",
    "    h_for_gradient,\n",
    "    h_index_of_max,\n",
    "    h_maxiter,\n",
    "    h_tolerance,\n",
    "    h_GMRES_n,\n",
    "    dev_actual_residual,\n",
    "    h_res_vs_tol_p,\n",
    "    h_N,\n",
    "    dev_gamma_array,\n",
    "    h_plan,\n",
    "    h_handle_p,\n",
    "    h_cusolverH_p,\n",
    "    dev_subs,\n",
    "    h_computation_times\n",
    "         )\n",
    "\n",
    "time_c = time() - time_c\n",
    "\n",
    "print(\"time_c for GMRES = \", time_c)"
   ]
  },
  {
   "cell_type": "code",
   "execution_count": 7,
   "metadata": {},
   "outputs": [
    {
     "data": {
      "text/plain": [
       "0"
      ]
     },
     "execution_count": 7,
     "metadata": {},
     "output_type": "execute_result"
    }
   ],
   "source": [
    "h_analytical_solution = (c_complex * Nsqrd )()    # cuComplex *dev_analytical_solution\n",
    "analytical_solution = get_complex_array(file_an_sol)\n",
    "py_to_ctype(analytical_solution, h_analytical_solution)\n",
    "dev_analytical_solution = pycumalloc(Nsqrd, c_size_t(sizeof(c_complex)))\n",
    "pycuhost2gpu(h_analytical_solution, dev_analytical_solution, Nsqrd, c_size_t(sizeof(c_complex)))\n",
    "dev_analytical_solution = cast(dev_analytical_solution, POINTER(c_complex))\n",
    "\n",
    "pycuSetPointerMode(h_handle_p, CUBLAS_POINTER_MODE_HOST())\n",
    "pycuRelErr(\n",
    "            dev_solution, \n",
    "            dev_analytical_solution,\n",
    "            h_N,\n",
    "            h_handle_p\n",
    "          )"
   ]
  },
  {
   "cell_type": "code",
   "execution_count": 8,
   "metadata": {},
   "outputs": [
    {
     "data": {
      "text/plain": [
       "0"
      ]
     },
     "execution_count": 8,
     "metadata": {},
     "output_type": "execute_result"
    }
   ],
   "source": [
    "pycuDestroyPlan(h_plan)\n",
    "pycuDestroyBlas(h_handle_p)\n",
    "pycuDestroySolverDn(h_cusolverH_p)\n",
    "pycuFree(dev_gamma_array)\n",
    "pycuFree(dev_mask)\n",
    "pycuFree(dev_actual_residual)\n",
    "pycuDestroySubsidiary(dev_subs)\n",
    "pycuFree(dev_analytical_solution)"
   ]
  },
  {
   "cell_type": "code",
   "execution_count": 17,
   "metadata": {},
   "outputs": [
    {
     "name": "stdout",
     "output_type": "stream",
     "text": [
      "Total time =  0.224506355\n"
     ]
    }
   ],
   "source": [
    "print(\"Total time = \", np.sum(get_nano_time(h_computation_times)/1e9))"
   ]
  },
  {
   "cell_type": "markdown",
   "metadata": {},
   "source": [
    "* \n",
    "    * Complex functions: <u> rename </u> and deal with  <u> 2 * float </u> \n",
    "    * as_ctype quickly: \n",
    "            https://stackoverflow.com/questions/47127575/copy-data-from-numpy-to-ctypes-quickly\n",
    "            https://stackoverflow.com/questions/3195660/how-to-use-numpy-array-with-ctypes\n",
    "* <strong>windows</strong>/linux CDLL/DLL,  no objdump  by using extern \"C\"\n",
    "    * free function\n",
    "    * dependant on GPU number\n",
    "* MIT license\n",
    "* module(Digits to python variables)\n",
    "* pip install\n",
    "    * malloc(3 vars) - separately\n",
    "    * clear pycuFree / pyFree / del - observe vars\n",
    "* <strong> github </strong> load\n",
    "    * var order\n",
    "* checking CUDA upgrade and code\n",
    "    * \\_36\\_ finish is zero-nono-time"
   ]
  },
  {
   "cell_type": "code",
   "execution_count": null,
   "metadata": {},
   "outputs": [],
   "source": []
  }
 ],
 "metadata": {
  "kernelspec": {
   "display_name": "Python 3",
   "language": "python",
   "name": "python3"
  },
  "language_info": {
   "codemirror_mode": {
    "name": "ipython",
    "version": 3
   },
   "file_extension": ".py",
   "mimetype": "text/x-python",
   "name": "python",
   "nbconvert_exporter": "python",
   "pygments_lexer": "ipython3",
   "version": "3.7.5"
  }
 },
 "nbformat": 4,
 "nbformat_minor": 2
}
