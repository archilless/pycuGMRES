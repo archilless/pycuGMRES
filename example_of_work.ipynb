{
 "cells": [
  {
   "cell_type": "code",
   "execution_count": 10,
   "metadata": {},
   "outputs": [],
   "source": [
    "from pycuGMRES import *"
   ]
  },
  {
   "cell_type": "code",
   "execution_count": 2,
   "metadata": {},
   "outputs": [],
   "source": [
    "def set_params(N, Nsqrd, maxiter = 30, tolerance = 0.00001, wavelength_per_domain = 6):\n",
    "    wavenumber = 2 * np.pi / ( N / wavelength_per_domain )\n",
    "    cylinder_mask = get_cylinder_mask(N)                                   # bool *h_mask\n",
    "\n",
    "    h_mask = (c_bool * Nsqrd)()\n",
    "    py_to_ctype(cylinder_mask, h_mask)\n",
    "    dev_mask = pycumalloc(Nsqrd, c_size_t(sizeof(c_bool)))\n",
    "    pycuhost2gpu(h_mask, dev_mask, Nsqrd, c_size_t(sizeof(c_bool)))\n",
    "    dev_mask = cast(dev_mask, POINTER(c_bool))\n",
    "\n",
    "    dev_solution = pycumalloc(Nsqrd, c_size_t(sizeof(c_complex)))          # cuComplex *dev_solution\n",
    "    dev_solution = cast(dev_solution, POINTER(c_complex))\n",
    "    h_for_gradient = c_bool(False)                                         # const bool for_gradient\n",
    "    h_index_of_max = c_uint(0)                                             # const unsigned int h_index_of_max\n",
    "    h_tolerance = c_float(tolerance)                                       # const float tolerance\n",
    "    h_GMRES_n = (c_uint * 1)(0)                                            # unsigned int *GMRES_n\n",
    "    dev_actual_residual = pycumalloc(maxiter+1, c_size_t(sizeof(c_float))) # float *dev_actual_residual\n",
    "    dev_actual_residual = cast(dev_actual_residual, POINTER(c_float))\n",
    "    h_res_vs_tol_p = c_bool(True)                                          # bool *h_res_vs_tol_p\n",
    "    h_N = c_uint(N)                                                        # const unsigned int N    \n",
    "    pycuInitSolution(dev_solution, h_N)\n",
    "\n",
    "    h_gamma_array = (c_complex * (2 * N - 1) ** 2 )()                      # cuComplex *dev_gamma_array\n",
    "    gamma_array = get_gamma_array(wavenumber, N)\n",
    "    py_to_ctype(gamma_array, h_gamma_array)\n",
    "    memmove(h_gamma_array, gamma_array.ctypes.data, gamma_array.nbytes)\n",
    "    dev_gamma_array = pycumalloc((2 * N - 1) ** 2, c_size_t(sizeof(c_complex)))\n",
    "    pycuhost2gpu(h_gamma_array, dev_gamma_array, (2 * N - 1) ** 2, c_size_t(sizeof(c_complex)))\n",
    "    dev_gamma_array = cast(dev_gamma_array, POINTER(c_complex))\n",
    "    h_plan = pycuGetPlan(h_N)                                              # const cufftHandle plan\n",
    "    h_handle_p = pycuHandleBlas()                                          # cublasHandle_t handle\n",
    "    h_cusolverH_p = pycuHandleSolverDn()                                   # cusolverDnHandle_t *cusolverH_p\n",
    "\n",
    "    h_maxiter = c_uint(maxiter)                                            # unsigned int maxiter\n",
    "\n",
    "    dev_subs = (c_devSubsidiary * 1)()                                     # dev_subsidiary *dev_subs\n",
    "    pycuGetSubsidiary(dev_subs, h_N, h_maxiter)\n",
    "    n_timestamps = get_n_timestamps_val(maxiter)                           # timespec *computation_times\n",
    "    h_computation_times = (c_timespec * n_timestamps)()    \n",
    "    \n",
    "    pycuFFTC2C(dev_gamma_array, dev_gamma_array, h_plan)\n",
    "    return  dev_mask,\\\n",
    "            dev_solution,\\\n",
    "            h_for_gradient,\\\n",
    "            h_index_of_max,\\\n",
    "            h_tolerance,\\\n",
    "            h_GMRES_n,\\\n",
    "            dev_actual_residual,\\\n",
    "            h_res_vs_tol_p,\\\n",
    "            h_N,\\\n",
    "            dev_gamma_array,\\\n",
    "            h_plan,\\\n",
    "            h_handle_p,\\\n",
    "            h_cusolverH_p,\\\n",
    "            h_maxiter,\\\n",
    "            dev_subs,\\\n",
    "            h_computation_times"
   ]
  },
  {
   "cell_type": "code",
   "execution_count": 3,
   "metadata": {},
   "outputs": [
    {
     "name": "stdout",
     "output_type": "stream",
     "text": [
      "time_c for GMRES =  0.41576457023620605\n",
      "h_rel_err =  0.06498587876558304\n",
      "0.000124894329928793\n",
      "Total time =  18446744074.1253\n"
     ]
    }
   ],
   "source": [
    "maxiter = 30\n",
    "\n",
    "visible_device = 0\n",
    "h_visible_device = c_uint(visible_device)\n",
    "pycuSetDevice(h_visible_device)\n",
    "\n",
    "for repetition in range(1):\n",
    "    \n",
    "    for pow_given in range(11, 12):\n",
    "        \n",
    "        N = 1 << pow_given\n",
    "        Nsqrd = 1 << (pow_given << 1)\n",
    "        file_an_sol = '/media/linux/4db3d51d-3503-451d-aff7-07e3ce95927e/Archive/Input/analytical_solution_' + \\\n",
    "                   str (N) + '.txt'\n",
    "    \n",
    "        N = 1 << pow_given\n",
    "        dev_mask,\\\n",
    "        dev_solution,\\\n",
    "        h_for_gradient,\\\n",
    "        h_index_of_max,\\\n",
    "        h_tolerance,\\\n",
    "        h_GMRES_n,\\\n",
    "        dev_actual_residual,\\\n",
    "        h_res_vs_tol_p,\\\n",
    "        h_N,\\\n",
    "        dev_gamma_array,\\\n",
    "        h_plan,\\\n",
    "        h_handle_p,\\\n",
    "        h_cusolverH_p,\\\n",
    "        h_maxiter,\\\n",
    "        dev_subs,\\\n",
    "        h_computation_times     = set_params(N, Nsqrd, maxiter)\n",
    "\n",
    "        pycuSetPointerMode(h_handle_p, CUBLAS_POINTER_MODE_DEVICE())\n",
    "\n",
    "        time_c = time()\n",
    "        \n",
    "        devh_debug1 = c_void_p()\n",
    "        devh_debug2 = c_void_p()\n",
    "        devh_debug3 = c_void_p()\n",
    "\n",
    "        pycuGMRES(\n",
    "            dev_mask,\n",
    "            dev_solution,\n",
    "            h_for_gradient,\n",
    "            h_index_of_max,\n",
    "            h_maxiter,\n",
    "            h_tolerance,\n",
    "            h_GMRES_n,\n",
    "            dev_actual_residual,\n",
    "            h_res_vs_tol_p,\n",
    "            h_N,\n",
    "            dev_gamma_array,\n",
    "            h_plan,\n",
    "            h_handle_p,\n",
    "            h_cusolverH_p,\n",
    "            dev_subs,\n",
    "            h_computation_times,\n",
    "            devh_debug1,\n",
    "            devh_debug2,\n",
    "            devh_debug3\n",
    "                 )\n",
    "\n",
    "        time_c = time() - time_c\n",
    "        \n",
    "        h_actual_residual = (c_float * (maxiter + 1))()\n",
    "        pycugpu2host(h_actual_residual, dev_actual_residual, maxiter + 1, c_size_t(sizeof(c_float)))\n",
    "\n",
    "        print(\"time_c for GMRES = \", time_c)\n",
    "\n",
    "        h_analytical_solution = (c_complex * Nsqrd )()    # cuComplex *dev_analytical_solution\n",
    "        analytical_solution = get_complex_array(file_an_sol)\n",
    "        py_to_ctype(analytical_solution, h_analytical_solution)\n",
    "        dev_analytical_solution = pycumalloc(Nsqrd, c_size_t(sizeof(c_complex)))\n",
    "        pycuhost2gpu(h_analytical_solution, dev_analytical_solution, Nsqrd, c_size_t(sizeof(c_complex)))\n",
    "        dev_analytical_solution = cast(dev_analytical_solution, POINTER(c_complex))\n",
    "        \n",
    "        \n",
    "\n",
    "        pycuSetPointerMode(h_handle_p, CUBLAS_POINTER_MODE_HOST())\n",
    "        \n",
    "        h_rel_err =    pycuRelErr(\n",
    "                                    dev_solution, \n",
    "                                    dev_analytical_solution,\n",
    "                                    h_N,\n",
    "                                    h_handle_p\n",
    "                                  )\n",
    "        \n",
    "        print(\"h_rel_err = \", h_rel_err)\n",
    "\n",
    "        pycuDestroyPlan(h_plan)\n",
    "        pycuDestroyBlas(h_handle_p)\n",
    "        pycuDestroySolverDn(h_cusolverH_p)\n",
    "        pycuFree(dev_gamma_array)\n",
    "        pycuFree(dev_mask)\n",
    "        pycuFree(dev_actual_residual)\n",
    "        pycuDestroySubsidiary(dev_subs)\n",
    "        pycuFree(dev_analytical_solution)\n",
    "#         pycuFree(dev_solution)   \n",
    "        \n",
    "        \n",
    "#         pycuDeviceReset()\n",
    "        \n",
    "        print(h_actual_residual[-2])\n",
    "        \n",
    "        print(\"Total time = \", np.sum(get_nano_time(h_computation_times)/1e9))"
   ]
  },
  {
   "cell_type": "code",
   "execution_count": null,
   "metadata": {},
   "outputs": [],
   "source": []
  },
  {
   "cell_type": "code",
   "execution_count": 12,
   "metadata": {},
   "outputs": [],
   "source": [
    "dev_mask,\\\n",
    "dev_solution,\\\n",
    "h_for_gradient,\\\n",
    "h_index_of_max,\\\n",
    "h_tolerance,\\\n",
    "h_GMRES_n,\\\n",
    "dev_actual_residual,\\\n",
    "h_res_vs_tol_p,\\\n",
    "h_N,\\\n",
    "dev_gamma_array,\\\n",
    "h_plan,\\\n",
    "h_handle_p,\\\n",
    "h_cusolverH_p,\\\n",
    "h_maxiter,\\\n",
    "dev_subs,\\\n",
    "h_computation_times     = set_params(N, Nsqrd, maxiter)"
   ]
  },
  {
   "cell_type": "code",
   "execution_count": 13,
   "metadata": {},
   "outputs": [],
   "source": [
    "h_solution = (c_complex * Nsqrd)()"
   ]
  },
  {
   "cell_type": "code",
   "execution_count": 14,
   "metadata": {},
   "outputs": [
    {
     "data": {
      "text/plain": [
       "0"
      ]
     },
     "execution_count": 14,
     "metadata": {},
     "output_type": "execute_result"
    }
   ],
   "source": [
    "pycugpu2host(h_solution, dev_solution, Nsqrd, c_size_t(sizeof(c_complex)))"
   ]
  },
  {
   "cell_type": "code",
   "execution_count": 15,
   "metadata": {},
   "outputs": [],
   "source": [
    "solution = np.zeros((N, N), dtype = np.complex64)"
   ]
  },
  {
   "cell_type": "code",
   "execution_count": 16,
   "metadata": {},
   "outputs": [],
   "source": [
    "solution = np.ctypeslib.as_array(h_solution)\n",
    "solution = solution['x'] + 1j * solution['y']"
   ]
  },
  {
   "cell_type": "code",
   "execution_count": 17,
   "metadata": {},
   "outputs": [
    {
     "data": {
      "text/plain": [
       "1.0"
      ]
     },
     "execution_count": 17,
     "metadata": {},
     "output_type": "execute_result"
    }
   ],
   "source": [
    "np.max(np.abs(solution))"
   ]
  },
  {
   "cell_type": "code",
   "execution_count": 20,
   "metadata": {
    "scrolled": false
   },
   "outputs": [
    {
     "data": {
      "image/png": "[encoded data removed]",
      "text/plain": [
       "<Figure size 1296x1296 with 2 Axes>"
      ]
     },
     "metadata": {
      "needs_background": "light"
     },
     "output_type": "display_data"
    }
   ],
   "source": [
    "visualize(np.abs(solution).reshape(N, N).T, wavelength_per_domain = 6 )"
   ]
  },
  {
   "cell_type": "code",
   "execution_count": 7,
   "metadata": {},
   "outputs": [
    {
     "data": {
      "text/plain": [
       "0"
      ]
     },
     "execution_count": 7,
     "metadata": {},
     "output_type": "execute_result"
    }
   ],
   "source": [
    "h_analytical_solution = (c_complex * Nsqrd )()    # cuComplex *dev_analytical_solution\n",
    "analytical_solution = get_complex_array(file_an_sol)\n",
    "py_to_ctype(analytical_solution, h_analytical_solution)\n",
    "dev_analytical_solution = pycumalloc(Nsqrd, c_size_t(sizeof(c_complex)))\n",
    "pycuhost2gpu(h_analytical_solution, dev_analytical_solution, Nsqrd, c_size_t(sizeof(c_complex)))\n",
    "dev_analytical_solution = cast(dev_analytical_solution, POINTER(c_complex))\n",
    "\n",
    "pycuSetPointerMode(h_handle_p, CUBLAS_POINTER_MODE_HOST())\n",
    "pycuRelErr(\n",
    "            dev_solution, \n",
    "            dev_analytical_solution,\n",
    "            h_N,\n",
    "            h_handle_p\n",
    "          )"
   ]
  },
  {
   "cell_type": "code",
   "execution_count": 8,
   "metadata": {},
   "outputs": [
    {
     "data": {
      "text/plain": [
       "0"
      ]
     },
     "execution_count": 8,
     "metadata": {},
     "output_type": "execute_result"
    }
   ],
   "source": [
    "pycuDestroyPlan(h_plan)\n",
    "pycuDestroyBlas(h_handle_p)\n",
    "pycuDestroySolverDn(h_cusolverH_p)\n",
    "pycuFree(dev_gamma_array)\n",
    "pycuFree(dev_mask)\n",
    "pycuFree(dev_actual_residual)\n",
    "pycuDestroySubsidiary(dev_subs)\n",
    "pycuFree(dev_analytical_solution)"
   ]
  },
  {
   "cell_type": "code",
   "execution_count": 9,
   "metadata": {},
   "outputs": [
    {
     "name": "stdout",
     "output_type": "stream",
     "text": [
      "Total time =  0.222711369\n"
     ]
    }
   ],
   "source": [
    "print(\"Total time = \", np.sum(get_nano_time(h_computation_times)/1e9))"
   ]
  },
  {
   "cell_type": "code",
   "execution_count": 8,
   "metadata": {},
   "outputs": [],
   "source": [
    "# visualize(np.abs(gamma_array).reshape(2 * N - 1,  2 * N - 1), wavelength_per_domain = 6)\n",
    "    "
   ]
  },
  {
   "cell_type": "code",
   "execution_count": 9,
   "metadata": {},
   "outputs": [
    {
     "name": "stdout",
     "output_type": "stream",
     "text": [
      "time_c for GMRES =  0.2388744354248047\n"
     ]
    }
   ],
   "source": []
  },
  {
   "cell_type": "code",
   "execution_count": 10,
   "metadata": {},
   "outputs": [
    {
     "data": {
      "text/plain": [
       "0"
      ]
     },
     "execution_count": 10,
     "metadata": {},
     "output_type": "execute_result"
    }
   ],
   "source": [
    "h_analytical_solution = (c_complex * Nsqrd )()    # cuComplex *dev_analytical_solution\n",
    "analytical_solution = get_complex_array(file_an_sol)\n",
    "py_to_ctype(analytical_solution, h_analytical_solution)\n",
    "dev_analytical_solution = pycumalloc(Nsqrd, c_size_t(sizeof(c_complex)))\n",
    "pycuhost2gpu(h_analytical_solution, dev_analytical_solution, Nsqrd, c_size_t(sizeof(c_complex)))\n",
    "dev_analytical_solution = cast(dev_analytical_solution, POINTER(c_complex))\n",
    "\n",
    "pycuSetPointerMode(h_handle_p, CUBLAS_POINTER_MODE_HOST())\n",
    "pycuRelErr(\n",
    "            dev_solution, \n",
    "            dev_analytical_solution,\n",
    "            h_N,\n",
    "            h_handle_p\n",
    "          )"
   ]
  },
  {
   "cell_type": "code",
   "execution_count": 11,
   "metadata": {},
   "outputs": [
    {
     "data": {
      "text/plain": [
       "0"
      ]
     },
     "execution_count": 11,
     "metadata": {},
     "output_type": "execute_result"
    }
   ],
   "source": [
    "pycuDestroyPlan(h_plan)\n",
    "pycuDestroyBlas(h_handle_p)\n",
    "pycuDestroySolverDn(h_cusolverH_p)\n",
    "pycuFree(dev_gamma_array)\n",
    "pycuFree(dev_mask)\n",
    "pycuFree(dev_actual_residual)\n",
    "pycuDestroySubsidiary(dev_subs)\n",
    "pycuFree(dev_analytical_solution)"
   ]
  },
  {
   "cell_type": "code",
   "execution_count": 12,
   "metadata": {},
   "outputs": [
    {
     "name": "stdout",
     "output_type": "stream",
     "text": [
      "Total time =  18446744073.948322\n"
     ]
    }
   ],
   "source": [
    "print(\"Total time = \", np.sum(get_nano_time(h_computation_times)/1e9))"
   ]
  },
  {
   "cell_type": "markdown",
   "metadata": {},
   "source": [
    "* \n",
    "    * Complex functions: <u> rename </u> and deal with  <u> 2 * float </u> \n",
    "    * as_ctype quickly: \n",
    "            https://stackoverflow.com/questions/47127575/copy-data-from-numpy-to-ctypes-quickly\n",
    "            https://stackoverflow.com/questions/3195660/how-to-use-numpy-array-with-ctypes\n",
    "* <strong>windows</strong>/linux CDLL/DLL,  no objdump  by using extern \"C\"\n",
    "    * free function\n",
    "    * dependant on GPU number\n",
    "    * MIT license\n",
    "* module(Digits to python variables)\n",
    "    * <strong> pip install </strong>\n",
    "    * malloc(3 vars) - separately\n",
    "    * clear pycuFree / pyFree / del - observe vars\n",
    "    * github load\n",
    "    * var order\n",
    "* checking CUDA upgrade and code\n",
    "    * \\_36\\_ finish is zero-nono-time\n",
    "    * PyPI example"
   ]
  }
 ],
 "metadata": {
  "kernelspec": {
   "display_name": "Python 3",
   "language": "python",
   "name": "python3"
  },
  "language_info": {
   "codemirror_mode": {
    "name": "ipython",
    "version": 3
   },
   "file_extension": ".py",
   "mimetype": "text/x-python",
   "name": "python",
   "nbconvert_exporter": "python",
   "pygments_lexer": "ipython3",
   "version": "3.7.5"
  }
 },
 "nbformat": 4,
 "nbformat_minor": 2
}
